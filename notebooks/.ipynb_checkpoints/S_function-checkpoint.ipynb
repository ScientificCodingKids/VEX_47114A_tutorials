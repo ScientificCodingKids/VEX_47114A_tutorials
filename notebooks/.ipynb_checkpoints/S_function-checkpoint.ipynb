{
 "cells": [
  {
   "cell_type": "markdown",
   "id": "d5922d7a",
   "metadata": {},
   "source": [
    "Consider a typical problem: joy stick can send value [-100, 100]. The motor speed is [-100, 100]. How do you write a function to convert job stick reading into speed?\n",
    "\n",
    "For the sake of simplicity, let us consider a function mapping from [-1, 1] to [-1, 1] first"
   ]
  },
  {
   "cell_type": "code",
   "execution_count": null,
   "id": "a6cbd116",
   "metadata": {},
   "outputs": [],
   "source": [
    "Naive choice: direct control"
   ]
  },
  {
   "cell_type": "code",
   "execution_count": null,
   "id": "6e5308c4",
   "metadata": {},
   "outputs": [],
   "source": [
    "def id(x: float) -> float:\n",
    "    return x\n"
   ]
  },
  {
   "cell_type": "code",
   "execution_count": null,
   "id": "afd1772a",
   "metadata": {},
   "outputs": [],
   "source": [
    "import numpy as np\n",
    "import pandas as pd\n",
    "\n",
    "x = np.arange(0, 1, 0.01)\n",
    "\n",
    "y1 = x.apply(id)\n",
    "\n",
    "df1 = {\"Joy Stick\": x, \"Speed\": y1}\n",
    "\n",
    "df1.plot(\"Direct control\")"
   ]
  }
 ],
 "metadata": {
  "kernelspec": {
   "display_name": "Python 3 (ipykernel)",
   "language": "python",
   "name": "python3"
  },
  "language_info": {
   "codemirror_mode": {
    "name": "ipython",
    "version": 3
   },
   "file_extension": ".py",
   "mimetype": "text/x-python",
   "name": "python",
   "nbconvert_exporter": "python",
   "pygments_lexer": "ipython3",
   "version": "3.7.13"
  }
 },
 "nbformat": 4,
 "nbformat_minor": 5
}
